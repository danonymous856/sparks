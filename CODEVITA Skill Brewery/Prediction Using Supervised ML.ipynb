{
 "cells": [
  {
   "cell_type": "markdown",
   "id": "966e6fc6",
   "metadata": {},
   "source": [
    "# Codevita Live Orientation for Skill Brewery Internship Program| Data Science Track"
   ]
  },
  {
   "cell_type": "markdown",
   "id": "b3065245",
   "metadata": {},
   "source": [
    "## #task1 : predict the weight of person based on their height"
   ]
  },
  {
   "cell_type": "code",
   "execution_count": 193,
   "id": "0371d5f6",
   "metadata": {},
   "outputs": [],
   "source": [
    "# Step 1 - Load data\n",
    "import pandas as pd\n",
    "dataset = pd.read_csv(\"heightweight.csv\")"
   ]
  },
  {
   "cell_type": "code",
   "execution_count": 194,
   "id": "dcd61d1d",
   "metadata": {},
   "outputs": [
    {
     "name": "stdout",
     "output_type": "stream",
     "text": [
      "<class 'pandas.core.frame.DataFrame'>\n",
      "RangeIndex: 10000 entries, 0 to 9999\n",
      "Data columns (total 3 columns):\n",
      " #   Column  Non-Null Count  Dtype  \n",
      "---  ------  --------------  -----  \n",
      " 0   Gender  10000 non-null  object \n",
      " 1   Height  10000 non-null  float64\n",
      " 2   Weight  10000 non-null  float64\n",
      "dtypes: float64(2), object(1)\n",
      "memory usage: 234.5+ KB\n"
     ]
    },
    {
     "data": {
      "text/plain": [
       "Gender    0\n",
       "Height    0\n",
       "Weight    0\n",
       "dtype: int64"
      ]
     },
     "execution_count": 194,
     "metadata": {},
     "output_type": "execute_result"
    }
   ],
   "source": [
    "dataset.info()\n",
    "dataset.describe()\n",
    "dataset.isnull().sum()"
   ]
  },
  {
   "cell_type": "code",
   "execution_count": 195,
   "id": "a707748b",
   "metadata": {},
   "outputs": [
    {
     "name": "stderr",
     "output_type": "stream",
     "text": [
      "C:\\Users\\Donald\\AppData\\Local\\Temp/ipykernel_26616/3904107257.py:11: DeprecationWarning: `np.float` is a deprecated alias for the builtin `float`. To silence this warning, use `float` by itself. Doing this will not modify any behavior and is safe. If you specifically wanted the numpy scalar type, use `np.float64` here.\n",
      "Deprecated in NumPy 1.20; for more details and guidance: https://numpy.org/devdocs/release/1.20.0-notes.html#deprecations\n",
      "  X = np.vstack(X[:, :]).astype(np.float)\n"
     ]
    }
   ],
   "source": [
    "# Step 3 - Convert Gender to number \n",
    "# Using LabelEncoder\n",
    "X = dataset.iloc[:, :-1].values\n",
    "y = dataset.iloc[:, 2].values\n",
    "from sklearn.preprocessing import LabelEncoder\n",
    "labelEncoder_gender =  LabelEncoder()\n",
    "X[:,0] = labelEncoder_gender.fit_transform(X[:,0])\n",
    "\n",
    "# Optional - if you want to convert X to float data type\n",
    "import numpy as np\n",
    "X = np.vstack(X[:, :]).astype(np.float)"
   ]
  },
  {
   "cell_type": "code",
   "execution_count": 196,
   "id": "72612842",
   "metadata": {},
   "outputs": [],
   "source": [
    "# Step 3 - Convert Gender to number \n",
    "# Replace directly in dataframe\n",
    "dataset['Gender'].replace('Female',0, inplace=True)\n",
    "dataset['Gender'].replace('Male',1, inplace=True)\n",
    "X = dataset.iloc[:, :-1].values\n",
    "y = dataset.iloc[:, 2].values"
   ]
  },
  {
   "cell_type": "code",
   "execution_count": 197,
   "id": "c592dd99",
   "metadata": {},
   "outputs": [],
   "source": [
    "# Step 4 - Split data\n",
    "from sklearn.model_selection import train_test_split\n",
    "X_train, X_test, y_train, y_test = train_test_split(X, y, test_size=0.2, random_state=0)"
   ]
  },
  {
   "cell_type": "code",
   "execution_count": 198,
   "id": "aa5c8ab9",
   "metadata": {},
   "outputs": [
    {
     "data": {
      "text/plain": [
       "LinearRegression()"
      ]
     },
     "execution_count": 198,
     "metadata": {},
     "output_type": "execute_result"
    }
   ],
   "source": [
    "# Step 5 - Fit Regression Model\n",
    "from sklearn.linear_model import LinearRegression\n",
    "lin_reg = LinearRegression()\n",
    "lin_reg.fit(X_train, y_train)"
   ]
  },
  {
   "cell_type": "code",
   "execution_count": 199,
   "id": "16754f78",
   "metadata": {},
   "outputs": [],
   "source": [
    "# Step 6 - Make Prediction using test data\n",
    "lin_pred = lin_reg.predict(X_test)"
   ]
  },
  {
   "cell_type": "code",
   "execution_count": 200,
   "id": "f7c3b94b",
   "metadata": {},
   "outputs": [],
   "source": [
    "# Step 8 - Predict my weight\n",
    "my_weight_pred = lin_reg.predict([[0,74]])"
   ]
  },
  {
   "cell_type": "code",
   "execution_count": 201,
   "id": "164aca0d",
   "metadata": {},
   "outputs": [
    {
     "data": {
      "text/plain": [
       "array([197.2481918])"
      ]
     },
     "execution_count": 201,
     "metadata": {},
     "output_type": "execute_result"
    }
   ],
   "source": [
    "my_weight_pred"
   ]
  },
  {
   "cell_type": "code",
   "execution_count": null,
   "id": "3e511e17",
   "metadata": {},
   "outputs": [],
   "source": []
  }
 ],
 "metadata": {
  "kernelspec": {
   "display_name": "Python 3 (ipykernel)",
   "language": "python",
   "name": "python3"
  },
  "language_info": {
   "codemirror_mode": {
    "name": "ipython",
    "version": 3
   },
   "file_extension": ".py",
   "mimetype": "text/x-python",
   "name": "python",
   "nbconvert_exporter": "python",
   "pygments_lexer": "ipython3",
   "version": "3.9.7"
  }
 },
 "nbformat": 4,
 "nbformat_minor": 5
}
