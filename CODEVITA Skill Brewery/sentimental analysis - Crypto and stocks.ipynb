{
 "cells": [
  {
   "cell_type": "markdown",
   "id": "2945076c",
   "metadata": {},
   "source": [
    "# Sentimental Analysis- Crypto and stocks\n"
   ]
  },
  {
   "cell_type": "code",
   "execution_count": 1,
   "id": "b03e19d1",
   "metadata": {},
   "outputs": [],
   "source": [
    "import numpy as np\n",
    "import pandas as pd \n",
    "import os\n",
    "for dirname, _, filenames in os.walk('/sparks/codevita'):\n",
    "    for filename in filenames:\n",
    "        print(os.path.join(dirname, filename))"
   ]
  },
  {
   "cell_type": "code",
   "execution_count": 2,
   "id": "cbb73f23",
   "metadata": {},
   "outputs": [],
   "source": [
    "# The statements are taken from the following url:https://www.reddit.com/r/StockMarket/ for Aug22-Sep22 period\n",
    "stocks=[\n",
    "    \"Interest rate is going up in two weeks,rent is over the top high,and there's no inventory on homes\",\n",
    "    \"when you see charts anywhere\",\n",
    "    \"S$P500 is down 20% YTD.I wish houses price were low atleast 20%\",\n",
    "    \"A major Fed rate hike risk deflation\",\n",
    "    \"FedEx warning drives worst decline in stocks,deepens slowdown fear\",\n",
    "    \"Jim Cramer predicts FedEx will have a great year amid strong e-commerce sales\",\n",
    "    \"The stock market will fall another 26% if the Fed sparks a recession in its fight against inflation,Goldman Sachs\",\n",
    "    \"Just Barely a Green Day but I'll take it\",\n",
    "    \"All of my current position for the 215k challenge youtube portfolio! It's been a hell of a ride so far\",\n",
    "    \"Wall St on course for bad week in months amid mounting slowdown fears \"\n",
    "]"
   ]
  },
  {
   "cell_type": "code",
   "execution_count": 3,
   "id": "752ef3fa",
   "metadata": {},
   "outputs": [],
   "source": [
    "# The statements are taken from the following url:https://www.reddit.com/r/CryptoCurrency/ for Aug22-Sep22 period\n",
    "cryptocurrencies=[\n",
    "    \"'No one is profitable:'GPU Mining faces dark days ahead\",\n",
    "    \"Joe Biden Just sends a stark warning to bitcoin and crypto after $ 2trillion price crash\",\n",
    "    \"I started accepting moons at my business as a payment method\",\n",
    "    \"It looks like Ethereum is now deflationary as the burns rate is at least 5% higher than the reward\",\n",
    "    \"Bitcoin better than physical property for  commoners, says Michael Saylor\",\n",
    "    \"Ethereum Classic's Hashrate surged  by 280% following merger\",\n",
    "    \"Over $320,000,000 liquidated in bitcoin and crypto in just 24 hours, with ethreum most impacted\",\n",
    "    \"Financial experts says instititions still invest in crypto regardless of downturn\",\n",
    "    \"Binance  CEo praises Biden digital assets policy report amid  industry critcism\",\n",
    "    \"Cryptocurrency is virtual property that is  protected by law ,chinese law court rules\"\n",
    "]"
   ]
  },
  {
   "cell_type": "code",
   "execution_count": 4,
   "id": "9a535b4b",
   "metadata": {},
   "outputs": [
    {
     "name": "stdout",
     "output_type": "stream",
     "text": [
      "10\n",
      "10\n"
     ]
    }
   ],
   "source": [
    "number_of_statements = len(stocks)\n",
    "print(number_of_statements)\n",
    "number_of_sentence = len(cryptocurrencies)\n",
    "print(number_of_sentence)"
   ]
  },
  {
   "cell_type": "code",
   "execution_count": 5,
   "id": "b096dd70",
   "metadata": {},
   "outputs": [],
   "source": [
    "happy_words_stock=['great','Green','excited','happy','wonderful','amazing','best']"
   ]
  },
  {
   "cell_type": "code",
   "execution_count": 6,
   "id": "eaf3f33c",
   "metadata": {},
   "outputs": [],
   "source": [
    "sad_words_stock=['down','risk','decline','fall','worst','bad']"
   ]
  },
  {
   "cell_type": "code",
   "execution_count": 7,
   "id": "eb71e476",
   "metadata": {},
   "outputs": [],
   "source": [
    "happy_words_cryptocurrency=['accepting','higher','better','surged','great','protected']"
   ]
  },
  {
   "cell_type": "code",
   "execution_count": 8,
   "id": "42a3b457",
   "metadata": {},
   "outputs": [],
   "source": [
    "sad_words_cryptocurrency=['dark','crash','impacted','criticism','warning']"
   ]
  },
  {
   "cell_type": "code",
   "execution_count": 9,
   "id": "529d8842",
   "metadata": {},
   "outputs": [
    {
     "data": {
      "text/plain": [
       "\"Interest rate is going up in two weeks,rent is over the top high,and there's no inventory on homes\""
      ]
     },
     "execution_count": 9,
     "metadata": {},
     "output_type": "execute_result"
    }
   ],
   "source": [
    "sample_stock = stocks[0]\n",
    "sample_stock"
   ]
  },
  {
   "cell_type": "code",
   "execution_count": null,
   "id": "d0b21f50",
   "metadata": {},
   "outputs": [],
   "source": []
  }
 ],
 "metadata": {
  "kernelspec": {
   "display_name": "Python 3 (ipykernel)",
   "language": "python",
   "name": "python3"
  },
  "language_info": {
   "codemirror_mode": {
    "name": "ipython",
    "version": 3
   },
   "file_extension": ".py",
   "mimetype": "text/x-python",
   "name": "python",
   "nbconvert_exporter": "python",
   "pygments_lexer": "ipython3",
   "version": "3.9.7"
  }
 },
 "nbformat": 4,
 "nbformat_minor": 5
}
