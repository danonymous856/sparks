{
 "cells": [
  {
   "cell_type": "markdown",
   "id": "0a460f49",
   "metadata": {},
   "source": [
    "# The Spark's Foundation Graduate Rotational Internship Program\n",
    "## #TASK-2 Prediction Using Unsupervised Learning\n",
    "### By Donald Laishram\n",
    "In the given 'Iris' dataset, predicting the optimum number of clusters and representing it visually."
   ]
  },
  {
   "cell_type": "code",
   "execution_count": null,
   "id": "cb6bf537",
   "metadata": {},
   "outputs": [],
   "source": [
    "import pandas as pd\n",
    "import numpy as np \n",
    "import matplotlib.pyplot as plt\n",
    "import sklearn."
   ]
  }
 ],
 "metadata": {
  "kernelspec": {
   "display_name": "Python 3 (ipykernel)",
   "language": "python",
   "name": "python3"
  },
  "language_info": {
   "codemirror_mode": {
    "name": "ipython",
    "version": 3
   },
   "file_extension": ".py",
   "mimetype": "text/x-python",
   "name": "python",
   "nbconvert_exporter": "python",
   "pygments_lexer": "ipython3",
   "version": "3.9.7"
  }
 },
 "nbformat": 4,
 "nbformat_minor": 5
}
